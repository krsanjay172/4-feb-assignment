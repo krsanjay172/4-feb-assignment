{
 "cells": [
  {
   "cell_type": "code",
   "execution_count": 1,
   "id": "0632552e-9238-4eb6-9b65-8563b98ff188",
   "metadata": {},
   "outputs": [],
   "source": [
    "# que-01"
   ]
  },
  {
   "cell_type": "code",
   "execution_count": 2,
   "id": "2f9a503a-a513-446f-a477-5c4eafbdce52",
   "metadata": {},
   "outputs": [
    {
     "name": "stdout",
     "output_type": "stream",
     "text": [
      "Sorted list based on integer value:  [('virat kohli', 24936), ('jack kallis', 25534), ('ricky poniting', 27483), ('sachin tendulkar', 34357)]\n"
     ]
    }
   ],
   "source": [
    "list_of_tuples = [('sachin tendulkar',34357),('ricky poniting',27483),('jack kallis',25534),('virat kohli',24936)]\n",
    "\n",
    "sorted_list = sorted(list_of_tuples, key = lambda x: x[1])\n",
    "\n",
    "print(\"Sorted list based on integer value: \",sorted_list)\n"
   ]
  },
  {
   "cell_type": "code",
   "execution_count": 3,
   "id": "e308ae92-d831-4364-81bb-5e0191880e4e",
   "metadata": {},
   "outputs": [],
   "source": [
    "# que-2"
   ]
  },
  {
   "cell_type": "code",
   "execution_count": 4,
   "id": "2deee343-3715-4df1-ad41-673906a86c01",
   "metadata": {},
   "outputs": [
    {
     "name": "stdout",
     "output_type": "stream",
     "text": [
      "Squared numbers:  [1, 4, 9, 16, 25, 36, 49, 64, 81, 100]\n"
     ]
    }
   ],
   "source": [
    "list_of_integers = [1,2,3,4,5,6,7,8,9,10]\n",
    "\n",
    "squared_numbers = list(map(lambda x: x**2, list_of_integers))\n",
    "\n",
    "print(\"Squared numbers: \",squared_numbers)\n"
   ]
  },
  {
   "cell_type": "code",
   "execution_count": 7,
   "id": "38cf6fdd-7d3f-4745-aa06-36bd05692356",
   "metadata": {},
   "outputs": [],
   "source": [
    "# que-3"
   ]
  },
  {
   "cell_type": "code",
   "execution_count": 8,
   "id": "32c8d5cd-b5d4-4356-b72b-6f13e0e7ab57",
   "metadata": {},
   "outputs": [
    {
     "name": "stdout",
     "output_type": "stream",
     "text": [
      "Tuple of strings:  ('1', '2', '3', '4', '5', '6', '7', '8', '9', '10')\n"
     ]
    }
   ],
   "source": [
    "list_of_integers = [1,2,3,4,5,6,7,8,9,10]\n",
    "\n",
    "converted_tuple = tuple(map(lambda x: str(x), list_of_integers))\n",
    "\n",
    "print(\"Tuple of strings: \",converted_tuple)\n"
   ]
  },
  {
   "cell_type": "code",
   "execution_count": null,
   "id": "96d83a5e-8c44-405a-8cc9-691a3c1c6747",
   "metadata": {},
   "outputs": [],
   "source": [
    "# que-4"
   ]
  },
  {
   "cell_type": "code",
   "execution_count": 9,
   "id": "a4708e2e-59cf-4440-bcee-0a14163cfaa4",
   "metadata": {},
   "outputs": [
    {
     "name": "stdout",
     "output_type": "stream",
     "text": [
      "Product of the list:  620448401733239439360000\n"
     ]
    }
   ],
   "source": [
    "from functools import reduce\n",
    "\n",
    "list_of_numbers = range(1,25)\n",
    "\n",
    "product = reduce(lambda x,y: x*y, list_of_numbers)\n",
    "\n",
    "print(\"Product of the list: \",product)\n"
   ]
  },
  {
   "cell_type": "code",
   "execution_count": 5,
   "id": "bfabecb4-2dd5-4947-99ff-8d83a5863f6f",
   "metadata": {},
   "outputs": [],
   "source": [
    "# que-5"
   ]
  },
  {
   "cell_type": "code",
   "execution_count": 6,
   "id": "668c756c-feff-441f-95e8-d9a28d626f4c",
   "metadata": {},
   "outputs": [
    {
     "name": "stdout",
     "output_type": "stream",
     "text": [
      "Numbers divisible by 2 and 3:  [6, 60, 90, 120]\n"
     ]
    }
   ],
   "source": [
    "list_of_numbers = [2,3,6,27,60,90,120,55,46]\n",
    "\n",
    "filtered_numbers = list(filter(lambda x: (x%2 == 0) and (x%3 == 0), list_of_numbers))\n",
    "\n",
    "print(\"Numbers divisible by 2 and 3: \",filtered_numbers)\n"
   ]
  },
  {
   "cell_type": "code",
   "execution_count": 10,
   "id": "2ca79320-3ee9-4874-a819-5c93f95eda7f",
   "metadata": {},
   "outputs": [],
   "source": [
    "# que - 6"
   ]
  },
  {
   "cell_type": "code",
   "execution_count": 12,
   "id": "6550195e-ea48-4c52-acb6-f7977aba643d",
   "metadata": {},
   "outputs": [
    {
     "name": "stdout",
     "output_type": "stream",
     "text": [
      "Palindromes in the list:  ['php', 'aba', 'radar', 'level']\n"
     ]
    }
   ],
   "source": [
    "list_of_strings = ['python','php','aba','radar','level']\n",
    "\n",
    "palindromes = list(filter(lambda x: x == x[::-1], list_of_strings))\n",
    "\n",
    "print(\"Palindromes in the list: \",palindromes)\n"
   ]
  },
  {
   "cell_type": "code",
   "execution_count": null,
   "id": "d5444286-bd30-41d8-9bc3-ad103e937f05",
   "metadata": {},
   "outputs": [],
   "source": []
  }
 ],
 "metadata": {
  "kernelspec": {
   "display_name": "Python 3 (ipykernel)",
   "language": "python",
   "name": "python3"
  },
  "language_info": {
   "codemirror_mode": {
    "name": "ipython",
    "version": 3
   },
   "file_extension": ".py",
   "mimetype": "text/x-python",
   "name": "python",
   "nbconvert_exporter": "python",
   "pygments_lexer": "ipython3",
   "version": "3.10.8"
  }
 },
 "nbformat": 4,
 "nbformat_minor": 5
}
